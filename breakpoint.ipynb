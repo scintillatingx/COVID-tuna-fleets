{
 "cells": [
  {
   "cell_type": "code",
   "execution_count": 1,
   "id": "8ddc0851",
   "metadata": {},
   "outputs": [],
   "source": [
    "import matplotlib.pyplot as plt\n",
    "import ruptures as rpt\n",
    "import numpy as np\n",
    "import pandas as pd"
   ]
  },
  {
   "cell_type": "code",
   "execution_count": null,
   "id": "24288733",
   "metadata": {},
   "outputs": [],
   "source": [
    "# 读取CSV文件\n",
    "df = pd.read_csv('C:/Users/xin/Desktop/anomaly/data_all/Num.csv')\n",
    "#df = pd.read_csv('C:/Users/xin/Desktop/anomaly/data_all/Time.csv')\n",
    "#df = pd.read_csv('C:/Users/xin/Desktop/anomaly/data_all/Dis.csv')\n",
    "\n",
    "values = df['LL'].values.reshape(-1, 1)\n",
    "\n",
    "dates = df['data'].values  # 获取对应的日期数据\n",
    "\n",
    "# 找拐点\n",
    "algo = rpt.Dynp(model=\"rbf\", min_size=1, jump=1).fit(values)\n",
    "\n",
    "# 检测断点，指定最大断点数\n",
    "result = algo.predict(n_bkps=2)\n",
    "result = result[:-1]\n",
    "\n",
    "# 显示结果\n",
    "plt.plot(values)\n",
    "for bkp in result:\n",
    "    plt.axvline(x=bkp, color='r', linestyle='--')\n",
    "    # 输出拐点对应的值和对应的日期\n",
    "    print(\"Breakpoint at index:\", bkp)\n",
    "    print(\"Value:\", values[bkp])\n",
    "    print(\"Corresponding Date:\", dates[bkp])\n",
    "\n",
    "plt.show()"
   ]
  },
  {
   "cell_type": "code",
   "execution_count": null,
   "id": "1a47e441",
   "metadata": {},
   "outputs": [],
   "source": [
    "# 读取CSV文件\n",
    "df = pd.read_csv('C:/Users/xin/Desktop/anomaly/data_all/Num.csv')\n",
    "#df = pd.read_csv('C:/Users/xin/Desktop/anomaly/data_all/Time.csv')\n",
    "#df = pd.read_csv('C:/Users/xin/Desktop/anomaly/data_all/Dis.csv')\n",
    "\n",
    "values = df['PS'].values.reshape(-1, 1)\n",
    "\n",
    "dates = df['data'].values  # 获取对应的日期数据\n",
    "# 找拐点\n",
    "#algo = rpt.Dynp(model=\"l2\", min_size=1, jump=1).fit(values)\n",
    "algo = rpt.Dynp(model=\"rbf\", min_size=1, jump=1).fit(values)\n",
    "\n",
    "# 检测断点，指定最大断点数\n",
    "result = algo.predict(n_bkps=2)\n",
    "result = result[:-1]\n",
    "\n",
    "# 显示结果\n",
    "plt.plot(values)\n",
    "for bkp in result:\n",
    "    plt.axvline(x=bkp, color='r', linestyle='--')\n",
    "    # 输出拐点对应的值和对应的日期\n",
    "    print(\"Breakpoint at index:\", bkp)\n",
    "    print(\"Value:\", values[bkp])\n",
    "    print(\"Corresponding Date:\", dates[bkp])\n",
    "\n",
    "plt.show()"
   ]
  },
  {
   "cell_type": "code",
   "execution_count": null,
   "id": "7a5fbadc",
   "metadata": {},
   "outputs": [],
   "source": []
  }
 ],
 "metadata": {
  "kernelspec": {
   "display_name": "Python 3",
   "language": "python",
   "name": "python3"
  },
  "language_info": {
   "codemirror_mode": {
    "name": "ipython",
    "version": 3
   },
   "file_extension": ".py",
   "mimetype": "text/x-python",
   "name": "python",
   "nbconvert_exporter": "python",
   "pygments_lexer": "ipython3",
   "version": "3.6.13"
  }
 },
 "nbformat": 4,
 "nbformat_minor": 5
}
